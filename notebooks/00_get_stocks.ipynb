{
 "cells": [
  {
   "cell_type": "markdown",
   "id": "0464a994-05c8-4621-a216-c9326b409936",
   "metadata": {},
   "source": [
    "# Getting a list of all NASDAQ and NYSE stock"
   ]
  },
  {
   "cell_type": "code",
   "execution_count": 1,
   "id": "036ea97d-77dc-44c2-a073-139ee4a008a3",
   "metadata": {},
   "outputs": [],
   "source": [
    "from bs4 import BeautifulSoup\n",
    "import requests\n",
    "import csv\n",
    "import os\n",
    "import pandas as pd\n",
    "import numpy as np\n",
    "import json\n",
    "import re\n",
    "import ast\n",
    "import datetime"
   ]
  },
  {
   "cell_type": "code",
   "execution_count": 2,
   "id": "b56c8894-ef1c-4028-a414-eed60dc304a1",
   "metadata": {},
   "outputs": [],
   "source": [
    "ALPHA_VANTAGE = # Your API Key Here"
   ]
  },
  {
   "cell_type": "code",
   "execution_count": 3,
   "id": "7063a989-85eb-4bce-a00e-251b68a59f0f",
   "metadata": {},
   "outputs": [],
   "source": [
    "# Get a list of all NASDAQ and NYSE stocks\n",
    "CSV_URL = f'https://www.alphavantage.co/query?function=LISTING_STATUS&apikey={ALPHA_VANTAGE}'\n",
    "with requests.Session() as s:\n",
    "    download = s.get(CSV_URL)\n",
    "    decoded_content = download.content.decode('utf-8')\n",
    "    cr = csv.reader(decoded_content.splitlines(), delimiter=',')\n",
    "    stock_list = list(cr)"
   ]
  },
  {
   "cell_type": "code",
   "execution_count": 4,
   "id": "e22f8fbf-6521-428a-8f64-938e89eedc40",
   "metadata": {},
   "outputs": [],
   "source": [
    "stock_df = pd.DataFrame(stock_list[1:], columns=stock_list[0])"
   ]
  },
  {
   "cell_type": "code",
   "execution_count": 5,
   "id": "7768006c-7837-4766-9b47-639a6b1d3360",
   "metadata": {},
   "outputs": [],
   "source": [
    "stock_df = stock_df.loc[stock_df['assetType'] == 'Stock', :]"
   ]
  },
  {
   "cell_type": "code",
   "execution_count": 6,
   "id": "6aafdede-c55e-4473-9f7a-98b33e4bac9a",
   "metadata": {},
   "outputs": [],
   "source": [
    "stock_df = stock_df.loc[stock_df['exchange'].isin(['NYSE', 'NASDAQ']), :]"
   ]
  },
  {
   "cell_type": "code",
   "execution_count": 7,
   "id": "8041c128-9baa-4846-85f6-0f35a6f5f34c",
   "metadata": {},
   "outputs": [],
   "source": [
    "stock_df = stock_df[stock_df['symbol'].str.find('-') == -1]"
   ]
  },
  {
   "cell_type": "code",
   "execution_count": 8,
   "id": "5eeb8250-4025-4958-93f2-69287e4e6634",
   "metadata": {},
   "outputs": [],
   "source": [
    "stock_df = stock_df[stock_df['symbol'].str.find('/') == -1]"
   ]
  },
  {
   "cell_type": "code",
   "execution_count": 9,
   "id": "98d6d90a-c49f-44fe-865c-3c0dc4229c30",
   "metadata": {},
   "outputs": [
    {
     "data": {
      "text/html": [
       "<div>\n",
       "<style scoped>\n",
       "    .dataframe tbody tr th:only-of-type {\n",
       "        vertical-align: middle;\n",
       "    }\n",
       "\n",
       "    .dataframe tbody tr th {\n",
       "        vertical-align: top;\n",
       "    }\n",
       "\n",
       "    .dataframe thead th {\n",
       "        text-align: right;\n",
       "    }\n",
       "</style>\n",
       "<table border=\"1\" class=\"dataframe\">\n",
       "  <thead>\n",
       "    <tr style=\"text-align: right;\">\n",
       "      <th></th>\n",
       "      <th>symbol</th>\n",
       "      <th>name</th>\n",
       "      <th>exchange</th>\n",
       "      <th>assetType</th>\n",
       "      <th>ipoDate</th>\n",
       "      <th>delistingDate</th>\n",
       "      <th>status</th>\n",
       "    </tr>\n",
       "  </thead>\n",
       "  <tbody>\n",
       "    <tr>\n",
       "      <th>0</th>\n",
       "      <td>A</td>\n",
       "      <td>Agilent Technologies Inc</td>\n",
       "      <td>NYSE</td>\n",
       "      <td>Stock</td>\n",
       "      <td>1999-11-18</td>\n",
       "      <td>null</td>\n",
       "      <td>Active</td>\n",
       "    </tr>\n",
       "    <tr>\n",
       "      <th>1</th>\n",
       "      <td>AA</td>\n",
       "      <td>Alcoa Corp</td>\n",
       "      <td>NYSE</td>\n",
       "      <td>Stock</td>\n",
       "      <td>2016-10-18</td>\n",
       "      <td>null</td>\n",
       "      <td>Active</td>\n",
       "    </tr>\n",
       "    <tr>\n",
       "      <th>4</th>\n",
       "      <td>AACG</td>\n",
       "      <td>ATA Creativity Global</td>\n",
       "      <td>NASDAQ</td>\n",
       "      <td>Stock</td>\n",
       "      <td>2008-01-29</td>\n",
       "      <td>null</td>\n",
       "      <td>Active</td>\n",
       "    </tr>\n",
       "    <tr>\n",
       "      <th>5</th>\n",
       "      <td>AACI</td>\n",
       "      <td>Armada Acquisition Corp I</td>\n",
       "      <td>NASDAQ</td>\n",
       "      <td>Stock</td>\n",
       "      <td>2021-11-10</td>\n",
       "      <td>null</td>\n",
       "      <td>Active</td>\n",
       "    </tr>\n",
       "    <tr>\n",
       "      <th>6</th>\n",
       "      <td>AACIU</td>\n",
       "      <td>Armada Acquisition Corp I - Units (1 Ord &amp; 1/2...</td>\n",
       "      <td>NASDAQ</td>\n",
       "      <td>Stock</td>\n",
       "      <td>2021-08-13</td>\n",
       "      <td>null</td>\n",
       "      <td>Active</td>\n",
       "    </tr>\n",
       "    <tr>\n",
       "      <th>...</th>\n",
       "      <td>...</td>\n",
       "      <td>...</td>\n",
       "      <td>...</td>\n",
       "      <td>...</td>\n",
       "      <td>...</td>\n",
       "      <td>...</td>\n",
       "      <td>...</td>\n",
       "    </tr>\n",
       "    <tr>\n",
       "      <th>11614</th>\n",
       "      <td>ZXZZT</td>\n",
       "      <td>NASDAQ TEST STOCK</td>\n",
       "      <td>NASDAQ</td>\n",
       "      <td>Stock</td>\n",
       "      <td>2006-07-10</td>\n",
       "      <td>null</td>\n",
       "      <td>Active</td>\n",
       "    </tr>\n",
       "    <tr>\n",
       "      <th>11615</th>\n",
       "      <td>ZYME</td>\n",
       "      <td>Zymeworks BC Inc</td>\n",
       "      <td>NASDAQ</td>\n",
       "      <td>Stock</td>\n",
       "      <td>2017-04-28</td>\n",
       "      <td>null</td>\n",
       "      <td>Active</td>\n",
       "    </tr>\n",
       "    <tr>\n",
       "      <th>11616</th>\n",
       "      <td>ZYNE</td>\n",
       "      <td>Zynerba Pharmaceuticals Inc</td>\n",
       "      <td>NASDAQ</td>\n",
       "      <td>Stock</td>\n",
       "      <td>2015-08-05</td>\n",
       "      <td>null</td>\n",
       "      <td>Active</td>\n",
       "    </tr>\n",
       "    <tr>\n",
       "      <th>11617</th>\n",
       "      <td>ZYRX</td>\n",
       "      <td>Global Earnings Capital Ltd</td>\n",
       "      <td>NASDAQ</td>\n",
       "      <td>Stock</td>\n",
       "      <td>2007-07-13</td>\n",
       "      <td>null</td>\n",
       "      <td>Active</td>\n",
       "    </tr>\n",
       "    <tr>\n",
       "      <th>11618</th>\n",
       "      <td>ZYXI</td>\n",
       "      <td>Zynex Inc</td>\n",
       "      <td>NASDAQ</td>\n",
       "      <td>Stock</td>\n",
       "      <td>2012-07-23</td>\n",
       "      <td>null</td>\n",
       "      <td>Active</td>\n",
       "    </tr>\n",
       "  </tbody>\n",
       "</table>\n",
       "<p>6835 rows × 7 columns</p>\n",
       "</div>"
      ],
      "text/plain": [
       "      symbol                                               name exchange   \n",
       "0          A                           Agilent Technologies Inc     NYSE  \\\n",
       "1         AA                                         Alcoa Corp     NYSE   \n",
       "4       AACG                              ATA Creativity Global   NASDAQ   \n",
       "5       AACI                          Armada Acquisition Corp I   NASDAQ   \n",
       "6      AACIU  Armada Acquisition Corp I - Units (1 Ord & 1/2...   NASDAQ   \n",
       "...      ...                                                ...      ...   \n",
       "11614  ZXZZT                                  NASDAQ TEST STOCK   NASDAQ   \n",
       "11615   ZYME                                   Zymeworks BC Inc   NASDAQ   \n",
       "11616   ZYNE                        Zynerba Pharmaceuticals Inc   NASDAQ   \n",
       "11617   ZYRX                        Global Earnings Capital Ltd   NASDAQ   \n",
       "11618   ZYXI                                          Zynex Inc   NASDAQ   \n",
       "\n",
       "      assetType     ipoDate delistingDate  status  \n",
       "0         Stock  1999-11-18          null  Active  \n",
       "1         Stock  2016-10-18          null  Active  \n",
       "4         Stock  2008-01-29          null  Active  \n",
       "5         Stock  2021-11-10          null  Active  \n",
       "6         Stock  2021-08-13          null  Active  \n",
       "...         ...         ...           ...     ...  \n",
       "11614     Stock  2006-07-10          null  Active  \n",
       "11615     Stock  2017-04-28          null  Active  \n",
       "11616     Stock  2015-08-05          null  Active  \n",
       "11617     Stock  2007-07-13          null  Active  \n",
       "11618     Stock  2012-07-23          null  Active  \n",
       "\n",
       "[6835 rows x 7 columns]"
      ]
     },
     "execution_count": 9,
     "metadata": {},
     "output_type": "execute_result"
    }
   ],
   "source": [
    "stock_df"
   ]
  },
  {
   "cell_type": "code",
   "execution_count": 10,
   "id": "8944575c-dcaa-4f9c-9ccd-47410421edec",
   "metadata": {},
   "outputs": [],
   "source": [
    "stock_df.to_csv(f'{str(datetime.date.today()).replace(\"-\",\"\")}_stocks.csv')"
   ]
  },
  {
   "cell_type": "code",
   "execution_count": null,
   "id": "78e0a1e8-9986-409c-bf51-29c588a7e578",
   "metadata": {},
   "outputs": [],
   "source": []
  }
 ],
 "metadata": {
  "kernelspec": {
   "display_name": "Python 3 (ipykernel)",
   "language": "python",
   "name": "python3"
  },
  "language_info": {
   "codemirror_mode": {
    "name": "ipython",
    "version": 3
   },
   "file_extension": ".py",
   "mimetype": "text/x-python",
   "name": "python",
   "nbconvert_exporter": "python",
   "pygments_lexer": "ipython3",
   "version": "3.10.11"
  }
 },
 "nbformat": 4,
 "nbformat_minor": 5
}
